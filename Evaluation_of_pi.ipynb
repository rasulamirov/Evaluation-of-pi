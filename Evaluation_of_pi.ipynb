{
  "cells": [
    {
      "cell_type": "markdown",
      "metadata": {
        "id": "view-in-github",
        "colab_type": "text"
      },
      "source": [
        "<a href=\"https://colab.research.google.com/github/rasulamirov/Evaluation-of-pi/blob/main/Evaluation_of_pi.ipynb\" target=\"_parent\"><img src=\"https://colab.research.google.com/assets/colab-badge.svg\" alt=\"Open In Colab\"/></a>"
      ]
    },
    {
      "cell_type": "markdown",
      "metadata": {
        "id": "19T9RJh83crr"
      },
      "source": [
        "# Methods of the Pi evaluation"
      ]
    },
    {
      "cell_type": "code",
      "execution_count": null,
      "metadata": {
        "id": "c467DDgj3crv"
      },
      "outputs": [],
      "source": [
        "import math\n",
        "import time\n",
        "import matplotlib.pyplot as plt\n",
        "import pandas as pd\n",
        "import numpy as np"
      ]
    },
    {
      "cell_type": "code",
      "execution_count": null,
      "metadata": {
        "id": "7E83AzYG3crx"
      },
      "outputs": [],
      "source": [
        "'''\n",
        "def trapezoidArea(R,N):\n",
        "    sum = 0\n",
        "    for i in range(1,N):\n",
        "        sum+=math.sqrt(i/N-(i/N)**2)\n",
        "    return 8*R**2/N*sum\n",
        "\n",
        "def piEstFromR(S, R):\n",
        "    return S/R**2\n",
        "'''\n",
        "\n",
        "\n",
        "def measureAccuracy(estimated, real):\n",
        "    return abs(estimated-real)/real\n",
        "\n",
        "def piEstTrapezoid(N):\n",
        "    lp = np.arange(1/N,1-1/N,1/N)\n",
        "    s = np.sqrt(lp-lp**2).sum()\n",
        "    return 8.0/N*s\n",
        "\n",
        "def piEstStones(N):\n",
        "    N_circle = 0\n",
        "    X = np.random.uniform(-1,1,N)\n",
        "    Y = np.random.uniform(-1,1,N)\n",
        "    answ = (X**2+Y**2 <=1)*1\n",
        "    return 4.0*answ.sum()/N\n",
        "    '''\n",
        "    for i in range(N):\n",
        "        x,y = random.uniform(-1,1), random.uniform(-1,1)\n",
        "        N_circle+=1*((x**2+y**2)<=1)\n",
        "    return 4.0*N_circle/N\n",
        "    '''\n",
        "\n",
        "\n",
        "def piEstTrapezoidLoop(N):\n",
        "    sum = 0\n",
        "    for i in range(1,N):\n",
        "        sum+=math.sqrt(i/N-(i/N)**2)\n",
        "    return 8.0/N*sum"
      ]
    },
    {
      "cell_type": "code",
      "execution_count": null,
      "metadata": {
        "id": "FvJJZUd93crx"
      },
      "outputs": [],
      "source": [
        "def takeMeasurements(rangeN, method):\n",
        "    # time, accuracy, N, \n",
        "    #data = pd.DataFrame({'N':[], 'Time':[], 'Accuracy':[]})\n",
        "    #dct = {'N':[], 'Time':[], 'Value':[],'Accuracy':[]}\n",
        "    \n",
        "    value = []\n",
        "    N = rangeN\n",
        "    t = []\n",
        "    accuracy = []\n",
        "\n",
        "\n",
        "\n",
        "    for i in rangeN:\n",
        "        \n",
        "        tic = time.perf_counter()\n",
        "        est = method(i)\n",
        "        toc = time.perf_counter()\n",
        "\n",
        "        value.append(est)\n",
        "        t.append(toc-tic)\n",
        "        accuracy.append(measureAccuracy(est, math.pi))\n",
        "\n",
        "    df = pd.DataFrame({'N':rangeN, 'Time':t, 'Value of PI':value, 'Error':accuracy})\n",
        "\n",
        "    return df"
      ]
    },
    {
      "cell_type": "code",
      "execution_count": null,
      "metadata": {
        "id": "tgcHVncy3cry"
      },
      "outputs": [],
      "source": [
        "import random\n",
        "random.seed(1)"
      ]
    },
    {
      "cell_type": "code",
      "execution_count": null,
      "metadata": {
        "id": "CWB5vumS3cry"
      },
      "outputs": [],
      "source": [
        "intervals = np.arange(100,1000000, 10000)\n",
        "#intervals = [10,100,1000,10000,100000]"
      ]
    },
    {
      "cell_type": "code",
      "execution_count": null,
      "metadata": {
        "id": "y04d2PXd3crz"
      },
      "outputs": [],
      "source": [
        "d2 = takeMeasurements(intervals, piEstStones)\n",
        "d1 = takeMeasurements(intervals, piEstTrapezoid)\n"
      ]
    },
    {
      "cell_type": "code",
      "execution_count": null,
      "metadata": {
        "id": "oIHpLLCD3crz",
        "outputId": "cbf1ce38-d7a5-4ab6-c9fb-6a75d7d05e36"
      },
      "outputs": [
        {
          "data": {
            "text/plain": [
              "Text(0, 0.5, 'Execution time(s)')"
            ]
          },
          "execution_count": 19,
          "metadata": {},
          "output_type": "execute_result"
        },
        {
          "data": {
            "image/png": "[encoded data removed]",
            "text/plain": [
              "<Figure size 432x288 with 1 Axes>"
            ]
          },
          "metadata": {
            "needs_background": "light"
          },
          "output_type": "display_data"
        }
      ],
      "source": [
        "plt.title('Trapezoid vs Stone pi estimation')\n",
        "plt.scatter(x=d1['N'], y =d1['Time'], c='grey')\n",
        "plt.scatter(x=d1['N'], y =d2['Time'], c='red')\n",
        "plt.legend(['Trapezoid', 'Stone'])\n",
        "plt.xlabel('N')\n",
        "plt.ylabel('Execution time(s)')"
      ]
    },
    {
      "cell_type": "code",
      "execution_count": null,
      "metadata": {
        "id": "7_IOrJtz3cr0",
        "outputId": "a9fbf012-3391-4d02-b902-c115bc71c663"
      },
      "outputs": [
        {
          "data": {
            "text/plain": [
              "Text(0, 0.5, 'Error')"
            ]
          },
          "execution_count": 23,
          "metadata": {},
          "output_type": "execute_result"
        },
        {
          "data": {
            "image/png": "[encoded data removed]",
            "text/plain": [
              "<Figure size 432x288 with 1 Axes>"
            ]
          },
          "metadata": {
            "needs_background": "light"
          },
          "output_type": "display_data"
        }
      ],
      "source": [
        "plt.title('Trapezoid vs Stone pi error vs time')\n",
        "plt.scatter(x=d1['N'].iloc[10:], y =d1['Error'].iloc[10:], c='grey')\n",
        "plt.scatter(x=d1['N'].iloc[10:], y =d2['Error'].iloc[10:], c='red')\n",
        "plt.legend(['Trapezoid', 'Stone'])\n",
        "plt.xlabel('N')\n",
        "plt.ylabel('Error')"
      ]
    },
    {
      "cell_type": "markdown",
      "metadata": {
        "id": "UguRSR2u3cr1"
      },
      "source": [
        "### Don't run the crap below if interval has huge values"
      ]
    },
    {
      "cell_type": "code",
      "execution_count": null,
      "metadata": {
        "id": "f3x28_LY3cr1",
        "outputId": "8e75dac8-7eac-4aae-8335-06184cc041d0"
      },
      "outputs": [
        {
          "ename": "KeyboardInterrupt",
          "evalue": "",
          "output_type": "error",
          "traceback": [
            "\u001b[1;31m---------------------------------------------------------------------------\u001b[0m",
            "\u001b[1;31mKeyboardInterrupt\u001b[0m                         Traceback (most recent call last)",
            "\u001b[1;32mc:\\Users\\amira\\pyprojects\\Basics_python\\Evaluation_of_pi.ipynb Cell 11\u001b[0m in \u001b[0;36m<cell line: 1>\u001b[1;34m()\u001b[0m\n\u001b[1;32m----> <a href='vscode-notebook-cell:/c%3A/Users/amira/pyprojects/Basics_python/Evaluation_of_pi.ipynb#X13sZmlsZQ%3D%3D?line=0'>1</a>\u001b[0m d2 \u001b[39m=\u001b[39m takeMeasurements(intervals, piEstTrapezoidLoop)\n\u001b[0;32m      <a href='vscode-notebook-cell:/c%3A/Users/amira/pyprojects/Basics_python/Evaluation_of_pi.ipynb#X13sZmlsZQ%3D%3D?line=1'>2</a>\u001b[0m d2\u001b[39m.\u001b[39mplot(kind \u001b[39m=\u001b[39m \u001b[39m'\u001b[39m\u001b[39mscatter\u001b[39m\u001b[39m'\u001b[39m, x \u001b[39m=\u001b[39m \u001b[39m'\u001b[39m\u001b[39mN\u001b[39m\u001b[39m'\u001b[39m, y\u001b[39m=\u001b[39m\u001b[39m'\u001b[39m\u001b[39mTime\u001b[39m\u001b[39m'\u001b[39m, title\u001b[39m=\u001b[39m\u001b[39m'\u001b[39m\u001b[39mTrapezoid Loop Estimation\u001b[39m\u001b[39m'\u001b[39m)\n\u001b[0;32m      <a href='vscode-notebook-cell:/c%3A/Users/amira/pyprojects/Basics_python/Evaluation_of_pi.ipynb#X13sZmlsZQ%3D%3D?line=2'>3</a>\u001b[0m d2\u001b[39m.\u001b[39mplot(kind \u001b[39m=\u001b[39m \u001b[39m'\u001b[39m\u001b[39mscatter\u001b[39m\u001b[39m'\u001b[39m, x \u001b[39m=\u001b[39m \u001b[39m'\u001b[39m\u001b[39mN\u001b[39m\u001b[39m'\u001b[39m, y\u001b[39m=\u001b[39m\u001b[39m'\u001b[39m\u001b[39mError\u001b[39m\u001b[39m'\u001b[39m, title\u001b[39m=\u001b[39m\u001b[39m'\u001b[39m\u001b[39mTrapezoid Loop Estimation\u001b[39m\u001b[39m'\u001b[39m)\n",
            "\u001b[1;32mc:\\Users\\amira\\pyprojects\\Basics_python\\Evaluation_of_pi.ipynb Cell 11\u001b[0m in \u001b[0;36mtakeMeasurements\u001b[1;34m(rangeN, method)\u001b[0m\n\u001b[0;32m     <a href='vscode-notebook-cell:/c%3A/Users/amira/pyprojects/Basics_python/Evaluation_of_pi.ipynb#X13sZmlsZQ%3D%3D?line=12'>13</a>\u001b[0m \u001b[39mfor\u001b[39;00m i \u001b[39min\u001b[39;00m rangeN:\n\u001b[0;32m     <a href='vscode-notebook-cell:/c%3A/Users/amira/pyprojects/Basics_python/Evaluation_of_pi.ipynb#X13sZmlsZQ%3D%3D?line=14'>15</a>\u001b[0m     tic \u001b[39m=\u001b[39m time\u001b[39m.\u001b[39mperf_counter()\n\u001b[1;32m---> <a href='vscode-notebook-cell:/c%3A/Users/amira/pyprojects/Basics_python/Evaluation_of_pi.ipynb#X13sZmlsZQ%3D%3D?line=15'>16</a>\u001b[0m     est \u001b[39m=\u001b[39m method(i)\n\u001b[0;32m     <a href='vscode-notebook-cell:/c%3A/Users/amira/pyprojects/Basics_python/Evaluation_of_pi.ipynb#X13sZmlsZQ%3D%3D?line=16'>17</a>\u001b[0m     toc \u001b[39m=\u001b[39m time\u001b[39m.\u001b[39mperf_counter()\n\u001b[0;32m     <a href='vscode-notebook-cell:/c%3A/Users/amira/pyprojects/Basics_python/Evaluation_of_pi.ipynb#X13sZmlsZQ%3D%3D?line=18'>19</a>\u001b[0m     value\u001b[39m.\u001b[39mappend(est)\n",
            "\u001b[1;32mc:\\Users\\amira\\pyprojects\\Basics_python\\Evaluation_of_pi.ipynb Cell 11\u001b[0m in \u001b[0;36mpiEstTrapezoidLoop\u001b[1;34m(N)\u001b[0m\n\u001b[0;32m     <a href='vscode-notebook-cell:/c%3A/Users/amira/pyprojects/Basics_python/Evaluation_of_pi.ipynb#X13sZmlsZQ%3D%3D?line=35'>36</a>\u001b[0m \u001b[39msum\u001b[39m \u001b[39m=\u001b[39m \u001b[39m0\u001b[39m\n\u001b[0;32m     <a href='vscode-notebook-cell:/c%3A/Users/amira/pyprojects/Basics_python/Evaluation_of_pi.ipynb#X13sZmlsZQ%3D%3D?line=36'>37</a>\u001b[0m \u001b[39mfor\u001b[39;00m i \u001b[39min\u001b[39;00m \u001b[39mrange\u001b[39m(\u001b[39m1\u001b[39m,N):\n\u001b[1;32m---> <a href='vscode-notebook-cell:/c%3A/Users/amira/pyprojects/Basics_python/Evaluation_of_pi.ipynb#X13sZmlsZQ%3D%3D?line=37'>38</a>\u001b[0m     \u001b[39msum\u001b[39m\u001b[39m+\u001b[39m\u001b[39m=\u001b[39mmath\u001b[39m.\u001b[39msqrt(i\u001b[39m/\u001b[39mN\u001b[39m-\u001b[39m(i\u001b[39m/\u001b[39mN)\u001b[39m*\u001b[39m\u001b[39m*\u001b[39m\u001b[39m2\u001b[39m)\n\u001b[0;32m     <a href='vscode-notebook-cell:/c%3A/Users/amira/pyprojects/Basics_python/Evaluation_of_pi.ipynb#X13sZmlsZQ%3D%3D?line=38'>39</a>\u001b[0m \u001b[39mreturn\u001b[39;00m \u001b[39m8.0\u001b[39m\u001b[39m/\u001b[39mN\u001b[39m*\u001b[39m\u001b[39msum\u001b[39m\n",
            "\u001b[1;31mKeyboardInterrupt\u001b[0m: "
          ]
        }
      ],
      "source": [
        "d2 = takeMeasurements(intervals, piEstTrapezoidLoop)\n",
        "d2.plot(kind = 'scatter', x = 'N', y='Time', title='Trapezoid Loop Estimation')\n",
        "d2.plot(kind = 'scatter', x = 'N', y='Error', title='Trapezoid Loop Estimation')\n",
        "\n",
        "plt.show()"
      ]
    },
    {
      "cell_type": "markdown",
      "metadata": {
        "id": "1uRxl9Uk3cr2"
      },
      "source": [
        "# Error estiamation"
      ]
    },
    {
      "cell_type": "code",
      "execution_count": null,
      "metadata": {
        "id": "_LJ0OJFC3cr2"
      },
      "outputs": [],
      "source": [
        "v1 = np.ones(d1['Error'].shape)"
      ]
    },
    {
      "cell_type": "code",
      "execution_count": null,
      "metadata": {
        "id": "yIw6NRCL3cr3",
        "outputId": "b07c7596-e917-4e3b-8ffe-51ac5aca9e23"
      },
      "outputs": [
        {
          "data": {
            "text/plain": [
              "Text(0, 0.5, 'Error')"
            ]
          },
          "execution_count": 10,
          "metadata": {},
          "output_type": "execute_result"
        },
        {
          "data": {
            "image/png": "[encoded data removed]",
            "text/plain": [
              "<Figure size 432x288 with 1 Axes>"
            ]
          },
          "metadata": {
            "needs_background": "light"
          },
          "output_type": "display_data"
        }
      ],
      "source": [
        "plt.title('Trapezoid vs Stone pi error vs time')\n",
        "plt.loglog(d1['N'].iloc[:], d1['Error'].iloc[:], c='grey')\n",
        "plt.loglog(d1['N'].iloc[:], d2['Error'].iloc[:], c='red')\n",
        "plt.legend(['Trapezoid', 'Stone'])\n",
        "plt.xlabel('N')\n",
        "plt.ylabel('Error')"
      ]
    },
    {
      "cell_type": "code",
      "execution_count": null,
      "metadata": {
        "id": "_97NxZFd3cr3"
      },
      "outputs": [],
      "source": []
    },
    {
      "cell_type": "code",
      "execution_count": null,
      "metadata": {
        "id": "V3UmtpB23cr3",
        "outputId": "d655e397-a2ba-45bc-cdd3-f074f33803c2"
      },
      "outputs": [
        {
          "data": {
            "text/html": [
              "<div>\n",
              "<style scoped>\n",
              "    .dataframe tbody tr th:only-of-type {\n",
              "        vertical-align: middle;\n",
              "    }\n",
              "\n",
              "    .dataframe tbody tr th {\n",
              "        vertical-align: top;\n",
              "    }\n",
              "\n",
              "    .dataframe thead th {\n",
              "        text-align: right;\n",
              "    }\n",
              "</style>\n",
              "<table border=\"1\" class=\"dataframe\">\n",
              "  <thead>\n",
              "    <tr style=\"text-align: right;\">\n",
              "      <th></th>\n",
              "      <th>N</th>\n",
              "      <th>Time</th>\n",
              "      <th>Value of PI</th>\n",
              "      <th>Error</th>\n",
              "    </tr>\n",
              "  </thead>\n",
              "  <tbody>\n",
              "    <tr>\n",
              "      <th>0</th>\n",
              "      <td>100</td>\n",
              "      <td>0.000047</td>\n",
              "      <td>3.130309</td>\n",
              "      <td>0.003592</td>\n",
              "    </tr>\n",
              "    <tr>\n",
              "      <th>1</th>\n",
              "      <td>110</td>\n",
              "      <td>0.000012</td>\n",
              "      <td>3.138711</td>\n",
              "      <td>0.000917</td>\n",
              "    </tr>\n",
              "    <tr>\n",
              "      <th>2</th>\n",
              "      <td>120</td>\n",
              "      <td>0.000027</td>\n",
              "      <td>3.139064</td>\n",
              "      <td>0.000805</td>\n",
              "    </tr>\n",
              "    <tr>\n",
              "      <th>3</th>\n",
              "      <td>130</td>\n",
              "      <td>0.000013</td>\n",
              "      <td>3.133973</td>\n",
              "      <td>0.002425</td>\n",
              "    </tr>\n",
              "    <tr>\n",
              "      <th>4</th>\n",
              "      <td>140</td>\n",
              "      <td>0.000008</td>\n",
              "      <td>3.134773</td>\n",
              "      <td>0.002171</td>\n",
              "    </tr>\n",
              "    <tr>\n",
              "      <th>...</th>\n",
              "      <td>...</td>\n",
              "      <td>...</td>\n",
              "      <td>...</td>\n",
              "      <td>...</td>\n",
              "    </tr>\n",
              "    <tr>\n",
              "      <th>985</th>\n",
              "      <td>9950</td>\n",
              "      <td>0.000031</td>\n",
              "      <td>3.141581</td>\n",
              "      <td>0.000004</td>\n",
              "    </tr>\n",
              "    <tr>\n",
              "      <th>986</th>\n",
              "      <td>9960</td>\n",
              "      <td>0.000030</td>\n",
              "      <td>3.141581</td>\n",
              "      <td>0.000004</td>\n",
              "    </tr>\n",
              "    <tr>\n",
              "      <th>987</th>\n",
              "      <td>9970</td>\n",
              "      <td>0.000031</td>\n",
              "      <td>3.141589</td>\n",
              "      <td>0.000001</td>\n",
              "    </tr>\n",
              "    <tr>\n",
              "      <th>988</th>\n",
              "      <td>9980</td>\n",
              "      <td>0.000031</td>\n",
              "      <td>3.141581</td>\n",
              "      <td>0.000004</td>\n",
              "    </tr>\n",
              "    <tr>\n",
              "      <th>989</th>\n",
              "      <td>9990</td>\n",
              "      <td>0.000031</td>\n",
              "      <td>3.141581</td>\n",
              "      <td>0.000004</td>\n",
              "    </tr>\n",
              "  </tbody>\n",
              "</table>\n",
              "<p>990 rows × 4 columns</p>\n",
              "</div>"
            ],
            "text/plain": [
              "        N      Time  Value of PI     Error\n",
              "0     100  0.000047     3.130309  0.003592\n",
              "1     110  0.000012     3.138711  0.000917\n",
              "2     120  0.000027     3.139064  0.000805\n",
              "3     130  0.000013     3.133973  0.002425\n",
              "4     140  0.000008     3.134773  0.002171\n",
              "..    ...       ...          ...       ...\n",
              "985  9950  0.000031     3.141581  0.000004\n",
              "986  9960  0.000030     3.141581  0.000004\n",
              "987  9970  0.000031     3.141589  0.000001\n",
              "988  9980  0.000031     3.141581  0.000004\n",
              "989  9990  0.000031     3.141581  0.000004\n",
              "\n",
              "[990 rows x 4 columns]"
            ]
          },
          "execution_count": 11,
          "metadata": {},
          "output_type": "execute_result"
        }
      ],
      "source": [
        "d1"
      ]
    },
    {
      "cell_type": "code",
      "execution_count": null,
      "metadata": {
        "id": "PFHZbgYP3cr3",
        "outputId": "862bf7d7-866a-4b2f-e4be-dce44aea68d2"
      },
      "outputs": [
        {
          "data": {
            "text/html": [
              "<div>\n",
              "<style scoped>\n",
              "    .dataframe tbody tr th:only-of-type {\n",
              "        vertical-align: middle;\n",
              "    }\n",
              "\n",
              "    .dataframe tbody tr th {\n",
              "        vertical-align: top;\n",
              "    }\n",
              "\n",
              "    .dataframe thead th {\n",
              "        text-align: right;\n",
              "    }\n",
              "</style>\n",
              "<table border=\"1\" class=\"dataframe\">\n",
              "  <thead>\n",
              "    <tr style=\"text-align: right;\">\n",
              "      <th></th>\n",
              "      <th>N</th>\n",
              "      <th>Time</th>\n",
              "      <th>Value of PI</th>\n",
              "      <th>Error</th>\n",
              "    </tr>\n",
              "  </thead>\n",
              "  <tbody>\n",
              "    <tr>\n",
              "      <th>0</th>\n",
              "      <td>100</td>\n",
              "      <td>0.010018</td>\n",
              "      <td>3.400000</td>\n",
              "      <td>0.082254</td>\n",
              "    </tr>\n",
              "    <tr>\n",
              "      <th>1</th>\n",
              "      <td>110</td>\n",
              "      <td>0.000051</td>\n",
              "      <td>3.018182</td>\n",
              "      <td>0.039283</td>\n",
              "    </tr>\n",
              "    <tr>\n",
              "      <th>2</th>\n",
              "      <td>120</td>\n",
              "      <td>0.000064</td>\n",
              "      <td>3.100000</td>\n",
              "      <td>0.013239</td>\n",
              "    </tr>\n",
              "    <tr>\n",
              "      <th>3</th>\n",
              "      <td>130</td>\n",
              "      <td>0.000057</td>\n",
              "      <td>3.230769</td>\n",
              "      <td>0.028386</td>\n",
              "    </tr>\n",
              "    <tr>\n",
              "      <th>4</th>\n",
              "      <td>140</td>\n",
              "      <td>0.000056</td>\n",
              "      <td>3.000000</td>\n",
              "      <td>0.045070</td>\n",
              "    </tr>\n",
              "    <tr>\n",
              "      <th>...</th>\n",
              "      <td>...</td>\n",
              "      <td>...</td>\n",
              "      <td>...</td>\n",
              "      <td>...</td>\n",
              "    </tr>\n",
              "    <tr>\n",
              "      <th>985</th>\n",
              "      <td>9950</td>\n",
              "      <td>0.000202</td>\n",
              "      <td>3.126834</td>\n",
              "      <td>0.004698</td>\n",
              "    </tr>\n",
              "    <tr>\n",
              "      <th>986</th>\n",
              "      <td>9960</td>\n",
              "      <td>0.000220</td>\n",
              "      <td>3.148996</td>\n",
              "      <td>0.002357</td>\n",
              "    </tr>\n",
              "    <tr>\n",
              "      <th>987</th>\n",
              "      <td>9970</td>\n",
              "      <td>0.000186</td>\n",
              "      <td>3.129789</td>\n",
              "      <td>0.003757</td>\n",
              "    </tr>\n",
              "    <tr>\n",
              "      <th>988</th>\n",
              "      <td>9980</td>\n",
              "      <td>0.000186</td>\n",
              "      <td>3.132665</td>\n",
              "      <td>0.002842</td>\n",
              "    </tr>\n",
              "    <tr>\n",
              "      <th>989</th>\n",
              "      <td>9990</td>\n",
              "      <td>0.000186</td>\n",
              "      <td>3.157958</td>\n",
              "      <td>0.005209</td>\n",
              "    </tr>\n",
              "  </tbody>\n",
              "</table>\n",
              "<p>990 rows × 4 columns</p>\n",
              "</div>"
            ],
            "text/plain": [
              "        N      Time  Value of PI     Error\n",
              "0     100  0.010018     3.400000  0.082254\n",
              "1     110  0.000051     3.018182  0.039283\n",
              "2     120  0.000064     3.100000  0.013239\n",
              "3     130  0.000057     3.230769  0.028386\n",
              "4     140  0.000056     3.000000  0.045070\n",
              "..    ...       ...          ...       ...\n",
              "985  9950  0.000202     3.126834  0.004698\n",
              "986  9960  0.000220     3.148996  0.002357\n",
              "987  9970  0.000186     3.129789  0.003757\n",
              "988  9980  0.000186     3.132665  0.002842\n",
              "989  9990  0.000186     3.157958  0.005209\n",
              "\n",
              "[990 rows x 4 columns]"
            ]
          },
          "execution_count": 12,
          "metadata": {},
          "output_type": "execute_result"
        }
      ],
      "source": [
        "d2"
      ]
    },
    {
      "cell_type": "code",
      "execution_count": null,
      "metadata": {
        "id": "q5L5AaqZ3cr4",
        "outputId": "21e1ec2c-0ae2-4ad4-e335-ffdbcae82072"
      },
      "outputs": [
        {
          "data": {
            "text/plain": [
              "3.1496"
            ]
          },
          "execution_count": 16,
          "metadata": {},
          "output_type": "execute_result"
        }
      ],
      "source": [
        "piEstStones(10000)"
      ]
    },
    {
      "cell_type": "code",
      "execution_count": null,
      "metadata": {
        "id": "XpGB9AkV3cr4"
      },
      "outputs": [],
      "source": []
    }
  ],
  "metadata": {
    "kernelspec": {
      "display_name": "Python 3.10.6 ('vscode_env')",
      "language": "python",
      "name": "python3"
    },
    "language_info": {
      "codemirror_mode": {
        "name": "ipython",
        "version": 3
      },
      "file_extension": ".py",
      "mimetype": "text/x-python",
      "name": "python",
      "nbconvert_exporter": "python",
      "pygments_lexer": "ipython3",
      "version": "3.10.6"
    },
    "orig_nbformat": 4,
    "vscode": {
      "interpreter": {
        "hash": "62d7443678304acc69a3301fb2693a0f777f55f2c155ef57df550c57ab171fc0"
      }
    },
    "colab": {
      "provenance": [],
      "include_colab_link": true
    }
  },
  "nbformat": 4,
  "nbformat_minor": 0
}